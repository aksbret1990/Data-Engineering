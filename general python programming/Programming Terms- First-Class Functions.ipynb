{
 "cells": [
  {
   "cell_type": "code",
   "execution_count": 16,
   "metadata": {},
   "outputs": [
    {
     "name": "stdout",
     "output_type": "stream",
     "text": [
      "<function square at 0x000000000912CF28>\n",
      "25\n",
      "--------------------------------------------------------\n",
      "<function square at 0x000000000912CF28>\n",
      "<function square at 0x000000000912CF28>\n",
      "--------------------------------------------------------\n",
      "[0, 1, 4, 9, 16, 25]\n",
      "--------------------------------------------------------\n",
      "[0, 1, 8, 27, 64, 125]\n",
      "-------------CLOSURES-------------------------------------------\n",
      "('Log: ', 'Hi')\n",
      "--------------------------------------------------------\n",
      "<h1>test headline<h1>\n",
      "<h6>another headline<h6>\n",
      "<p>new paragraph<p>\n",
      "--------------------------------------------------------\n"
     ]
    }
   ],
   "source": [
    "def square(x):\n",
    "    return x * x\n",
    "\n",
    "f = square(5)\n",
    "print(square)\n",
    "print(f)\n",
    "\n",
    "print(\"--------------------------------------------------------\")\n",
    "    \n",
    "f = square\n",
    "print(square)\n",
    "print(f)\n",
    "\n",
    "print(\"--------------------------------------------------------\")\n",
    "\n",
    "def my_map(func, arg_list):\n",
    "    result = []\n",
    "    for i in arg_list:\n",
    "        result.append(func(i))\n",
    "    return result\n",
    "\n",
    "squares = my_map(square, [0,1,2,3,4,5])\n",
    "\n",
    "print(squares)\n",
    "\n",
    "print(\"--------------------------------------------------------\")\n",
    "\n",
    "\n",
    "def cube(x):\n",
    "    return (x)**3\n",
    "\n",
    "cubes = my_map(cube, [0,1,2,3,4,5])\n",
    "\n",
    "print(cubes)\n",
    "\n",
    "print(\"-------------CLOSURES-------------------------------------------\")\n",
    "\n",
    "\n",
    "def logger(msg):\n",
    "    \n",
    "    def log_message():\n",
    "        print (\"Log: \", msg)\n",
    "        \n",
    "    return log_message\n",
    "    \n",
    "log_hi = logger(\"Hi\")\n",
    "log_hi()\n",
    "\n",
    "print(\"--------------------------------------------------------\")\n",
    "\n",
    "\n",
    "def html_tag(tag):\n",
    "    \n",
    "    def wrap_text(msg):\n",
    "        print('<{0}>{1}<{0}>'.format(tag,msg))\n",
    "        \n",
    "    return wrap_text\n",
    "\n",
    "print_h1 = html_tag(\"h1\")\n",
    "print_h1('test headline')\n",
    "\n",
    "print_h1 = html_tag(\"h6\")\n",
    "print_h1('another headline')\n",
    "\n",
    "\n",
    "print_p = html_tag(\"p\")\n",
    "print_p(\"new paragraph\")\n",
    "print(\"--------------------------------------------------------\")\n"
   ]
  },
  {
   "cell_type": "code",
   "execution_count": null,
   "metadata": {
    "collapsed": true
   },
   "outputs": [],
   "source": []
  }
 ],
 "metadata": {
  "kernelspec": {
   "display_name": "Python 2",
   "language": "python",
   "name": "python2"
  },
  "language_info": {
   "codemirror_mode": {
    "name": "ipython",
    "version": 2
   },
   "file_extension": ".py",
   "mimetype": "text/x-python",
   "name": "python",
   "nbconvert_exporter": "python",
   "pygments_lexer": "ipython2",
   "version": "2.7.14"
  }
 },
 "nbformat": 4,
 "nbformat_minor": 2
}
