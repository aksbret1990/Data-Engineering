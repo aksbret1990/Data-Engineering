{
 "cells": [
  {
   "cell_type": "code",
   "execution_count": 25,
   "metadata": {},
   "outputs": [
    {
     "name": "stdout",
     "output_type": "stream",
     "text": [
      "Hi\n",
      "Hello\n",
      "6\n",
      "0\n"
     ]
    }
   ],
   "source": [
    "def outer_func(msg):\n",
    "    message = msg\n",
    "    \n",
    "    def inner_func():\n",
    "        print (message)\n",
    "        \n",
    "    return inner_func\n",
    "\n",
    "hi_func = outer_func(\"Hi\")\n",
    "hello_func = outer_func(\"Hello\")\n",
    "hi_func()\n",
    "hello_func()\n",
    "\n",
    "import logging\n",
    "\n",
    "def logger(func):\n",
    "    def log_func(*args):\n",
    "        logging.info('Running \"{}\" with arguments {}'.format(func.__name__,args))\n",
    "        print (func(*args))\n",
    "    return log_func\n",
    "\n",
    "def add(x,y):\n",
    "    return x+y\n",
    "\n",
    "def sub(x,y):\n",
    "    return x-y\n",
    "\n",
    "add_logger = logger(add)\n",
    "\n",
    "sub_logger = logger(sub)\n",
    "\n",
    "add_logger(3,3)\n",
    "sub_logger(3,3)\n",
    "\n",
    "\n",
    "\n"
   ]
  },
  {
   "cell_type": "code",
   "execution_count": null,
   "metadata": {
    "collapsed": true
   },
   "outputs": [],
   "source": []
  }
 ],
 "metadata": {
  "kernelspec": {
   "display_name": "Python 2",
   "language": "python",
   "name": "python2"
  },
  "language_info": {
   "codemirror_mode": {
    "name": "ipython",
    "version": 2
   },
   "file_extension": ".py",
   "mimetype": "text/x-python",
   "name": "python",
   "nbconvert_exporter": "python",
   "pygments_lexer": "ipython2",
   "version": "2.7.14"
  }
 },
 "nbformat": 4,
 "nbformat_minor": 2
}
